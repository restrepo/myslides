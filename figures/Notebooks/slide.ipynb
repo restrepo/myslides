{
 "cells": [
  {
   "cell_type": "code",
   "execution_count": 2,
   "metadata": {
    "collapsed": false,
    "scrolled": true
   },
   "outputs": [
    {
     "name": "stdout",
     "output_type": "stream",
     "text": [
      "Populating the interactive namespace from numpy and matplotlib\n",
      "2015-11-15 14:52:27.563923\n"
     ]
    }
   ],
   "source": [
    "%pylab inline\n",
    "import numpy as np\n",
    "import pandas as pd\n",
    "import datetime\n",
    "print datetime.datetime.now()"
   ]
  },
  {
   "cell_type": "markdown",
   "metadata": {},
   "source": [
    "CL_seed= Initial CL given by checkmate taking as base a point with CL_theoretical=0.95 $$ $$\n",
    "CL_ckm = Final CL given by checkmate, which is equal to CL_seed if, abs(CL_seed-CL_ckm)< 0.01 $$ $$\n",
    "CL_theo = Theoretical CL for the final y_eN and Y_muN"
   ]
  },
  {
   "cell_type": "code",
   "execution_count": 3,
   "metadata": {
    "collapsed": false
   },
   "outputs": [],
   "source": [
    "columns=['CL_ckm_ini', 'CL_ckm_fin','y1', 'y2', 'y_elN_orig','y_muN_orig','CL_comb_th_ckm(y_elN,y_muN,520)[0]',\\\n",
    "'y_elN',  'y_muN', 'y_tauR','CL_comb_th_ckm(YeN,YmuN,520)[0]','CL_comb_th_ckm(YeN,YmuN,520)[1]',\\\n",
    "                            'CL_chekm_combf','dCL_checkm_combf','CL','YeN','YmuN', 'r_max',\\\n",
    "                            'r_obs','r_exp', 'CLs_obs', 'dCLs_obs',\\\n",
    "                            'CLs_exp', 'dCLs_exp','S', 'dS_stat',\\\n",
    "                            'dS_sys', 'dS_tot', 'B', 'dB',\\\n",
    "                            'O', 'S95_obs', 'S95_exp','S_elel',\\\n",
    "                            'dS_stat_elel', 'dS_sys_elel', 'dS_tot_elel',\\\n",
    "                            'B_elel','dB_elel', 'O_elel', 'CL_obs_elel',\\\n",
    "                            'dCL_obs_elel', 'CL_exp_elel', 'dCL_exp_elel', \\\n",
    "                            'S_mumu', 'dS_stat_mumu', 'dS_sys_mumu',\\\n",
    "                            'dS_tot_mumu', 'B_mumu', 'dB_mumu', 'O_mumu',\\\n",
    "                            'CL_obs_mumu', 'dCL_obs_mumu', 'CL_exp_mumu',\\\n",
    "                            'dCL_exp_mumu', 'S_elmu', 'dS_stat_elmu',\\\n",
    "                            'dS_sys_elmu', 'dS_tot_elmu',  'B_elmu', \\\n",
    "                            'dB_elmu', 'O_elmu', 'CL_obs_elmu', 'dCL_obs_elmu',\\\n",
    "                            'CL_exp_elmu', 'dCL_exp_elmu',\"MH0\", \"MH\",\\\n",
    "                            \"MA0\", \"MH1\", \"La2\", \"LaL\", \"Mtr01\", \"Mtr02\",\\\n",
    "                            \"Mtr03\",\"Mtrch1\", \"Mtrch2\", \"Mtrch3\", \"y11R\",\\\n",
    "                            \"y12R\", \"y13R\", \"y21R\", \"y22R\", \"y23R\", \"y31R\",\\\n",
    "                            \"y32R\", \"y33R\", \"y11I\", \"y12I\", \"y13I\", \"y21I\",\\\n",
    "                            \"y22I\", \"y23I\", \"y31I\", \"y32I\", \"y33I\",\\\n",
    "                            'H+ -> c,d~,~H0', 'H+ -> c,s~,~H0',\\\n",
    "                            'H+ -> u,d~,~H0', 'H+ -> u,s~,~H0',\\\n",
    "                            'H+ -> ve,e+,~H0', 'H+ -> vm,mu+,~H0', \\\n",
    "                            'H+ -> vt,ta+,~H0','H+ -> W+,~A0',\\\n",
    "                            'H+ -> W+,~H0', 'A0 -> W-,~H+','A0 -> W+,~H-', \\\n",
    "                            'A0 -> a,~H0', 'A0 -> Z,~H0', 'tr01 -> e-,~H+', \\\n",
    "                            'tr01 -> vm,~H0', 'tr01 -> e+,~H-',\\\n",
    "                            'tr01 -> ve~,~H0', 'tr01 -> vm~,~H0',\\\n",
    "                            'tr01 -> vt~,~H0', 'tr01 -> vt,~H0', \\\n",
    "                            'tr01 -> ta-,~H+', 'tr01 -> mu+,~H-', \\\n",
    "                            'tr01 -> ta+,~H-', 'tr01 -> mu-,~H+', \\\n",
    "                            'tr01 -> ve,~H0', 'tr01 -> vt~,~A0', \\\n",
    "                            'tr01 -> vm~,~A0', 'tr01 -> ve,~A0', \\\n",
    "                            'tr01 -> vt,~A0', 'tr01 -> ve~,~A0', \\\n",
    "                            'tr01 -> vm,~A0', 'tr1- -> ve~,~H-', \\\n",
    "                            'tr1- -> e-,~H0', 'tr1- -> vt~,~H-', \\\n",
    "                            'tr1- -> vm~,~H-', 'tr1- -> ta-,~H0', \\\n",
    "                            'tr1- -> mu-,~H0','tr1- -> mu-,~A0',\\\n",
    "                            'tr1- -> ta-,~A0', 'tr1- -> e-,~A0', \\\n",
    "                            'Omega', 'Xf', 'sigmav', 'PSI', 'NSI',\\\n",
    "                            'widthA0', 'widthHP', 'widthtr01', 'widthtr1P', \\\n",
    "                            'xsection1', 'xsectionerror1', 'xsection2',\\\n",
    "                            'xsectionerror2']\n"
   ]
  },
  {
   "cell_type": "code",
   "execution_count": 4,
   "metadata": {
    "collapsed": false
   },
   "outputs": [],
   "source": [
    "\n",
    "def cross1(x):\n",
    "    '''\n",
    "    x:-> m_{\\Sigma^{\\pm}}\n",
    "    cross1 = production cross section \\sigma ( p p \\to \\sigma^{+} \\sigma^{-} ) in fb\n",
    "    '''\n",
    "    if (100<=x<250):\n",
    "        a1 = 24.7134440046\n",
    "        b1 = -3.17385626418\n",
    "        c1 = -0.0696510981474\n",
    "        f=exp(a1 + b1*np.log(x) + c1*np.log(x)**2)\n",
    "    if (250<=x<450):\n",
    "        a2 = 8.20551597956\n",
    "        b2 = 3.0480398209\n",
    "        c2 = -0.656439861563\n",
    "        f=exp(a2 + b2*np.log(x) + c2*np.log(x)**2)\n",
    "    if (450<=x<=800):\n",
    "        a3 = -9.67713364683\n",
    "        b3 = 9.10638134736\n",
    "        c3 = -1.16948659419\n",
    "        f=exp(a3 + b3*np.log(x) + c3*np.log(x)**2)\n",
    "    if ((0<x<100) or (x>800.0)): \n",
    "        f=0.0\n",
    "    return f \n",
    "\n",
    "\n",
    "\n",
    "## z = x^2+y^2 == r2, zeta = (x^2-y^2)/(x^2+y^2)\n",
    "## x^2 = z (1+zeta)/\n",
    "\n",
    "def zeta(x,y):\n",
    "    f= (x**2-y**2)/(x**2+y**2)\n",
    "    return f\n",
    "\n",
    "def r2(x,y):\n",
    "    f= (x**2+y**2)\n",
    "    return f\n",
    "\n",
    "##\n",
    "\n",
    "def newx2(zeta,r2):\n",
    "    return r2/2.*(1+zeta)\n",
    "def newy2(zeta,r2):\n",
    "    return r2/2.*(1-zeta)\n",
    "def newy22(zeta,r2):\n",
    "    return r2/2.*(1-zeta)\n"
   ]
  },
  {
   "cell_type": "code",
   "execution_count": 5,
   "metadata": {
    "collapsed": false
   },
   "outputs": [],
   "source": [
    "def testy2(zeta,r2):\n",
    "    f=r2/2.*(1-zeta)\n",
    "    #    f=min(ff,1.0)\n",
    "    return f\n",
    "\n",
    "##comment: this expantion converges well (small coeffs for higher order terms)\n",
    "\n",
    "\n",
    "#now invert to the original coordinates¶\n",
    "\n",
    "\n",
    "\n",
    "def tauconst(k,x):\n",
    "    f =k-x\n",
    "    return f\n",
    "\n",
    "def ttconst(tt,x):\n",
    "    f = tt*x\n",
    "    return f\n",
    "\n",
    "#newy2(zeta(xdd['y_elN'],xdd['y_muN']),pr4(zeta(xdd['y_elN'],xdd['y_muN'])))\n",
    "#newy22(zeta(xdd['y_elN'],xdd['y_muN']),pr2(zeta(xdd['y_elN'],xdd['y_muN'])))"
   ]
  },
  {
   "cell_type": "code",
   "execution_count": 6,
   "metadata": {
    "collapsed": false
   },
   "outputs": [],
   "source": [
    "an350a=np.loadtxt('full_data/data_array_350.txt')\n",
    "an350f=np.loadtxt('full_data/data_350_full.txt')\n",
    "an350=np.loadtxt('full_data/data_350.txt')\n",
    "an400=np.loadtxt('full_data/data_400.txt')\n",
    "an450=np.loadtxt('full_data/data_450.txt')\n",
    "an500=np.loadtxt('full_data/data_500.txt')\n",
    "an550=np.loadtxt('full_data/data_550.txt')\n",
    "an600=np.loadtxt('full_data/data_600.txt')\n",
    "\n",
    "znda350a=pd.DataFrame(data=an350a,columns=columns)\n",
    "znda350f=pd.DataFrame(data=an350f,columns=columns)\n",
    "znda350=pd.DataFrame(data=an350,columns=columns)\n",
    "znda400=pd.DataFrame(data=an400,columns=columns)\n",
    "znda450=pd.DataFrame(data=an450,columns=columns)\n",
    "znda500=pd.DataFrame(data=an500,columns=columns)\n",
    "znda550=pd.DataFrame(data=an550,columns=columns)\n",
    "znda600=pd.DataFrame(data=an600,columns=columns)\n",
    "#znda400orig=pd.DataFrame(data=an400orig,columns=columns)\n",
    "\n",
    "if len(znda350a) != 203:\n",
    "    print \"test: change of data? len of znda350a=\", len(znda350a),\" != 203\"\n"
   ]
  },
  {
   "cell_type": "code",
   "execution_count": 7,
   "metadata": {
    "collapsed": true
   },
   "outputs": [],
   "source": [
    "xx=np.linspace(0.,0.7,len(znda500['y_elN']))\n",
    "xzeta=np.linspace(-1,1,len(znda500['y_elN']))\n"
   ]
  },
  {
   "cell_type": "code",
   "execution_count": 62,
   "metadata": {
    "collapsed": false
   },
   "outputs": [],
   "source": [
    "## fit with plynomial 2 & 4 degree\n"
   ]
  },
  {
   "cell_type": "markdown",
   "metadata": {
    "collapsed": false
   },
   "source": [
    "## original plots, not necessary here. cut.\n",
    "#### -------------------------------------------------------------------------------------------------------------------\n",
    "#### "
   ]
  },
  {
   "cell_type": "code",
   "execution_count": 8,
   "metadata": {
    "collapsed": false
   },
   "outputs": [],
   "source": [
    "xnda35=znda350[np.logical_and(znda350['CL_ckm_fin']>0.94, znda350['CL_ckm_fin']<0.96)]  # good points\n",
    "knda35=znda350[np.logical_or(znda350['CL_ckm_fin']<0.94, znda350['CL_ckm_fin']>0.96)]   # bad points\n",
    "\n",
    "xnda4=znda400[np.logical_and(znda400['CL_ckm_fin']>0.94, znda400['CL_ckm_fin']<0.96)]  # good points\n",
    "knda4=znda400[np.logical_or(znda400['CL_ckm_fin']<0.94, znda400['CL_ckm_fin']>0.96)]   # bad points\n",
    "#\n",
    "xnda45=znda450[np.logical_and(znda450['CL_ckm_fin']>0.94, znda450['CL_ckm_fin']<0.96)]  # good points\n",
    "knda45=znda450[np.logical_or(znda450['CL_ckm_fin']<0.94, znda450['CL_ckm_fin']>0.96)]   # bad points\n",
    "#\n",
    "xnda5=znda500[np.logical_and(znda500['CL_ckm_fin']>0.94, znda500['CL_ckm_fin']<0.96)]  # good points\n",
    "knda5=znda500[np.logical_or(znda500['CL_ckm_fin']<0.94, znda500['CL_ckm_fin']>0.96)]   # bad points\n",
    "#\n",
    "xnda55=znda550[np.logical_and(znda550['CL_ckm_fin']>0.94, znda550['CL_ckm_fin']<0.96)]  # good points\n",
    "knda55=znda550[np.logical_or(znda550['CL_ckm_fin']<0.94, znda550['CL_ckm_fin']>0.96)]   # bad points\n",
    "#\n",
    "xnda6=znda600[np.logical_and(znda600['CL_ckm_fin']>0.94, znda600['CL_ckm_fin']<0.96)]  # good points\n",
    "knda6=znda600[np.logical_or(znda600['CL_ckm_fin']<0.94, znda600['CL_ckm_fin']>0.96)]   # bad points\n",
    "#\n",
    "xndb5=znda500[np.logical_and(znda500['CL_ckm_fin']>0.945, znda500['CL_ckm_fin']<0.955)]  # good points\n",
    "kndb5=znda500[np.logical_or(znda500['CL_ckm_fin']<0.945, znda500['CL_ckm_fin']>0.955)]   # bad points\n",
    "#\n",
    "xnda35f=znda350f[np.logical_and(znda350f['CL_ckm_fin']>0.94, znda350f['CL_ckm_fin']<0.96)]  # good points\n",
    "knda35f=znda350f[np.logical_or(znda350f['CL_ckm_fin']<0.94, znda350f['CL_ckm_fin']>0.96)]   # bad points\n",
    "\n",
    "\n",
    "xnda35a=znda350a[np.logical_and(znda350a['CL_ckm_fin']>0.94, znda350a['CL_ckm_fin']<0.96)]  # good points\n",
    "knda35a=znda350a[np.logical_or(znda350a['CL_ckm_fin']<0.94, znda350a['CL_ckm_fin']>0.96)]   # bad points\n",
    "\n",
    "\n",
    "knda4m=znda400[np.logical_and(znda400['CL_ckm_fin']<0.94, znda400['CL_ckm_fin']<0.94)]  # bad points\n",
    "knda4p=znda400[np.logical_or(znda400['CL_ckm_fin']>0.96, znda400['CL_ckm_fin']>0.96)]   # bad points\n",
    "\n",
    "knda35m=znda350[np.logical_and(znda350['CL_ckm_fin']<0.94, znda350['CL_ckm_fin']>0.93)]  # bad points\n",
    "knda35mm=znda350[np.logical_and(znda350['CL_ckm_fin']<0.93, znda350['CL_ckm_fin']>0.92)]  # bad points\n",
    "knda35mmm=znda350[np.logical_and(znda350['CL_ckm_fin']<0.92, znda350['CL_ckm_fin']<0.92)]  # bad points\n",
    "knda35p=znda350[np.logical_or(znda350['CL_ckm_fin']>0.96, znda350['CL_ckm_fin']>0.96)]   # bad points\n",
    "\n",
    "knda35fm=znda350f[np.logical_and(znda350f['CL_ckm_fin']<0.94, znda350f['CL_ckm_fin']>0.93)]  # bad points\n",
    "knda35fmm=znda350f[np.logical_and(znda350f['CL_ckm_fin']<0.93, znda350f['CL_ckm_fin']>0.92)]  # bad points\n",
    "knda35fmmm=znda350f[np.logical_and(znda350f['CL_ckm_fin']<0.92, znda350f['CL_ckm_fin']<0.92)]  # bad points\n",
    "knda35fp=znda350f[np.logical_or(znda350f['CL_ckm_fin']>0.96, znda350f['CL_ckm_fin']>0.96)]   # bad points\n"
   ]
  },
  {
   "cell_type": "code",
   "execution_count": 9,
   "metadata": {
    "collapsed": false
   },
   "outputs": [
    {
     "data": {
      "text/plain": [
       "2.53840520350313e-06"
      ]
     },
     "execution_count": 9,
     "metadata": {},
     "output_type": "execute_result"
    }
   ],
   "source": [
    "## same in polar coordinates: new data\n",
    "## tests\n",
    "\n",
    "len(r2(xnda5['y_elN'],xnda5['y_muN']))\n",
    "len(zeta(xnda5['y_elN'],xnda5['y_muN']))\n",
    "\n",
    "np.abs(xnda4.y11R**2 +  xnda4.y12R**2 + xnda4.y13R**2 + xnda4.y11I**2 +  xnda4.y12I**2 + xnda4.y13I**2 ).max()\n",
    "\n",
    "#np.sqrt(znda600.y11R**2 +  znda600.y12R**2 + znda600.y13R**2 + znda600.y11I**2 +  znda600.y12I**2 + znda600.y13I**2 ).max()\n",
    "np.sqrt(znda350.y11R**2 +  znda350.y12R**2 + znda350.y13R**2 + znda350.y11I**2 +  znda350.y12I**2 + znda350.y13I**2 ).max()\n"
   ]
  },
  {
   "cell_type": "code",
   "execution_count": 10,
   "metadata": {
    "collapsed": false
   },
   "outputs": [
    {
     "name": "stdout",
     "output_type": "stream",
     "text": [
      "2015-11-15 14:53:28.315521\n"
     ]
    }
   ],
   "source": [
    "### quadratic fits\n",
    "\n",
    "znr62=np.polyfit(zeta(xnda6['y_elN'],xnda6['y_muN']),r2(xnda6['y_elN'],xnda6['y_muN']), 2)\n",
    "pnr62 = np.poly1d(znr62)\n",
    "\n",
    "znr552=np.polyfit(zeta(xnda55['y_elN'],xnda55['y_muN']),r2(xnda55['y_elN'],xnda55['y_muN']), 2)\n",
    "pnr552 = np.poly1d(znr552)\n",
    "\n",
    "#len(r2(xnda5['y_elN'],xnda5['y_muN']))\n",
    "#len(zeta(xnda5['y_elN'],xnda5['y_muN']))\n",
    "\n",
    "znr52=np.polyfit(zeta(xnda5['y_elN'],xnda5['y_muN']),r2(xnda5['y_elN'],xnda5['y_muN']), 2)\n",
    "pnr52 = np.poly1d(znr52)\n",
    "\n",
    "znr452=np.polyfit(zeta(xnda45['y_elN'],xnda45['y_muN']),r2(xnda45['y_elN'],xnda45['y_muN']), 2)\n",
    "pnr452 = np.poly1d(znr452)\n",
    "\n",
    "znr42=np.polyfit(zeta(xnda4['y_elN'],xnda4['y_muN']),r2(xnda4['y_elN'],xnda4['y_muN']), 2)\n",
    "pnr42 = np.poly1d(znr42)\n",
    "\n",
    "znr352=np.polyfit(zeta(xnda35['y_elN'],xnda35['y_muN']),r2(xnda35['y_elN'],xnda35['y_muN']), 2)\n",
    "pnr352 = np.poly1d(znr352)\n",
    "#\n",
    "znr352f=np.polyfit(zeta(xnda35f['y_elN'],xnda35f['y_muN']),r2(xnda35f['y_elN'],xnda35f['y_muN']), 2)\n",
    "pnr352f = np.poly1d(znr352f)\n",
    "\n",
    "znr352a=np.polyfit(zeta(xnda35a['y_elN'],xnda35a['y_muN']),r2(xnda35a['y_elN'],xnda35a['y_muN']), 2)\n",
    "pnr352a = np.poly1d(znr352a)\n",
    "print datetime.datetime.now()"
   ]
  },
  {
   "cell_type": "code",
   "execution_count": 11,
   "metadata": {
    "collapsed": false
   },
   "outputs": [
    {
     "name": "stdout",
     "output_type": "stream",
     "text": [
      "2015-11-15 14:53:29.356907\n"
     ]
    }
   ],
   "source": [
    "### quartic fits\n",
    "\n",
    "znr64=np.polyfit(zeta(xnda6['y_elN'],xnda6['y_muN']),r2(xnda6['y_elN'],xnda6['y_muN']), 4)\n",
    "#print znr54\n",
    "pnr64 = np.poly1d(znr64)\n",
    "\n",
    "znr554=np.polyfit(zeta(xnda55['y_elN'],xnda55['y_muN']),r2(xnda55['y_elN'],xnda55['y_muN']), 4)\n",
    "pnr554 = np.poly1d(znr554)\n",
    "\n",
    "znr54=np.polyfit(zeta(xnda5['y_elN'],xnda5['y_muN']),r2(xnda5['y_elN'],xnda5['y_muN']), 4)\n",
    "pnr54 = np.poly1d(znr54)\n",
    "\n",
    "znr454=np.polyfit(zeta(xnda45['y_elN'],xnda45['y_muN']),r2(xnda45['y_elN'],xnda45['y_muN']), 4)\n",
    "pnr454 = np.poly1d(znr454)\n",
    "\n",
    "znr44=np.polyfit(zeta(xnda4['y_elN'],xnda4['y_muN']),r2(xnda4['y_elN'],xnda4['y_muN']), 4)\n",
    "pnr44 = np.poly1d(znr44)\n",
    "\n",
    "znr354=np.polyfit(zeta(xnda35['y_elN'],xnda35['y_muN']),r2(xnda35['y_elN'],xnda35['y_muN']), 4)\n",
    "pnr354 = np.poly1d(znr354)\n",
    "print datetime.datetime.now()"
   ]
  },
  {
   "cell_type": "code",
   "execution_count": 12,
   "metadata": {
    "collapsed": false
   },
   "outputs": [],
   "source": [
    "mselel=pnr352a(1),pnr42(1),pnr452(1),pnr52(1),pnr552(1),pnr62(1)\n",
    "msmumu=pnr352a(-1),pnr42(-1),pnr452(-1),pnr52(-1),pnr552(-1),pnr62(-1)\n",
    "mselmu=pnr352a(0),pnr42(0),pnr452(0),pnr52(0),pnr552(0),pnr62(0)\n",
    "mm=350,400,450,500,550,600\n",
    "\n",
    "#mee=array([[mm[1],mselel[1]],[mm[2],mselel[2]]])\n",
    "\n",
    "lbrelel=np.log(mselel)\n",
    "lbrmumu=np.log(msmumu)            \n",
    "lbrelmu=np.log(mselmu)\n",
    "lbrelel,lbrelmu,lbrmumu\n",
    "\n",
    "\n",
    "\n",
    "m4selel=pnr44(1),pnr454(1),pnr54(1),pnr554(1),pnr64(1)\n",
    "m4smumu=pnr44(-1),pnr454(-1),pnr54(-1),pnr554(-1),pnr64(-1)\n",
    "m4selmu=pnr44(0),pnr454(0),pnr54(0),pnr554(0),pnr64(0)\n",
    "\n",
    "\n",
    "#mee=array([['$0.4$',mm[1],mselel[1]],[mm[2],mselel[2]]])\n",
    "\n",
    "lbr4elel=np.log(m4selel)\n",
    "lbr4mumu=np.log(m4smumu)            \n",
    "lbr4elmu=np.log(m4selmu)\n",
    "lbr4elel,lbr4elmu,lbr4mumu\n",
    "\n",
    "# however, the fit should be made over the log!\n",
    "zmee=np.polyfit(mm,lbrelel, 2)\n",
    "zmuu=np.polyfit(mm,lbrmumu,2)\n",
    "zmue=np.polyfit(mm,lbrelmu,2)\n",
    "\n",
    "z1dmee=np.poly1d(zmee)\n",
    "z1dmue=np.poly1d(zmue)\n",
    "z1dmuu=np.poly1d(zmuu)\n"
   ]
  },
  {
   "cell_type": "markdown",
   "metadata": {},
   "source": [
    "## The plots..."
   ]
  },
  {
   "cell_type": "code",
   "execution_count": 19,
   "metadata": {
    "collapsed": false
   },
   "outputs": [
    {
     "name": "stdout",
     "output_type": "stream",
     "text": [
      "2015-11-15 15:09:44.571931\n"
     ]
    },
    {
     "data": {
      "image/png": "[encoded data removed]",
      "text/plain": [
       "<matplotlib.figure.Figure at 0x7f570dbee510>"
      ]
     },
     "metadata": {},
     "output_type": "display_data"
    }
   ],
   "source": [
    "############\n",
    "fig, ax = plt.subplots()\n",
    "#xm=np.linspace(200,700,len(100))\n",
    "xxm=np.linspace(200,700)\n",
    "\n",
    "plt.plot(xxm,np.exp(z1dmee(xxm)),'r-',lw=1)\n",
    "\n",
    "plt.ylabel(r'${\\mathcal{B}_{e}} + {\\mathcal{B}_{\\mu}}$ '  ,size=15)\n",
    "plt.xlabel(r'$  m_{\\Sigma_1^\\pm}[\\rm GeV]$ '  ,size=15)\n",
    "plt.ylim(0,1)\n",
    "plt.xlim(0,700)\n",
    " \n",
    "    \n",
    "plt.savefig('excl.svg')    \n",
    "print datetime.datetime.now()"
   ]
  },
  {
   "cell_type": "code",
   "execution_count": null,
   "metadata": {
    "collapsed": true
   },
   "outputs": [],
   "source": []
  }
 ],
 "metadata": {
  "kernelspec": {
   "display_name": "Python 2",
   "language": "python",
   "name": "python2"
  },
  "language_info": {
   "codemirror_mode": {
    "name": "ipython",
    "version": 2
   },
   "file_extension": ".py",
   "mimetype": "text/x-python",
   "name": "python",
   "nbconvert_exporter": "python",
   "pygments_lexer": "ipython2",
   "version": "2.7.9"
  }
 },
 "nbformat": 4,
 "nbformat_minor": 0
}
